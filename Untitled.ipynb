{
 "cells": [
  {
   "cell_type": "markdown",
   "metadata": {},
   "source": [
    "### 1. Using sliding window, create data that includes lab values and selected vitals for predicting mortality within 24 hours. Apply to patients 65+ yo"
   ]
  },
  {
   "cell_type": "code",
   "execution_count": 1,
   "metadata": {},
   "outputs": [],
   "source": [
    "import sqlite3\n",
    "import pandas as pd\n",
    "import numpy as np\n",
    "import matplotlib.pyplot as plt"
   ]
  },
  {
   "cell_type": "code",
   "execution_count": 3,
   "metadata": {},
   "outputs": [],
   "source": [
    "conn = sqlite3.connect('/Users/Merin/Desktop/HAP880/HAP_880_Project/mimic.db/mimic.db')"
   ]
  },
  {
   "cell_type": "code",
   "execution_count": 4,
   "metadata": {},
   "outputs": [],
   "source": [
    "# all admissions for patients older than 65\n",
    "admissions = pd.read_sql('select *, (julianday(date(admittime))-julianday(date(dob)))/365.25 as age from admissions, patients where admissions.subject_id = patients.subject_id and (julianday(date(admittime))-julianday(date(dob)))/365.25 >= 65',conn)"
   ]
  },
  {
   "cell_type": "code",
   "execution_count": 5,
   "metadata": {},
   "outputs": [],
   "source": [
    "import time"
   ]
  },
  {
   "cell_type": "code",
   "execution_count": 6,
   "metadata": {},
   "outputs": [],
   "source": [
    "# calculate los in hours\n",
    "admissions['los_hrs']=admissions.apply(lambda r: (time.mktime(time.strptime(r['DISCHTIME'],'%Y-%m-%d %H:%M:%S')) - \n",
    "                 time.mktime(time.strptime(r['ADMITTIME'],'%Y-%m-%d %H:%M:%S')))/3600.0, axis=1)"
   ]
  },
  {
   "cell_type": "code",
   "execution_count": 7,
   "metadata": {},
   "outputs": [
    {
     "data": {
      "text/plain": [
       "0      330.233333\n",
       "1      254.983333\n",
       "2      407.950000\n",
       "3      115.283333\n",
       "4       72.000000\n",
       "5      171.733333\n",
       "6      157.116667\n",
       "7      301.183333\n",
       "8      148.083333\n",
       "9       68.250000\n",
       "10     395.816667\n",
       "11     101.033333\n",
       "12     158.250000\n",
       "13      90.083333\n",
       "14     457.016667\n",
       "15      48.666667\n",
       "16    1269.116667\n",
       "17     341.366667\n",
       "18     152.433333\n",
       "19     164.666667\n",
       "Name: los_hrs, dtype: float64"
      ]
     },
     "execution_count": 7,
     "metadata": {},
     "output_type": "execute_result"
    }
   ],
   "source": [
    "admissions['los_hrs'][:20]"
   ]
  },
  {
   "cell_type": "code",
   "execution_count": 8,
   "metadata": {},
   "outputs": [],
   "source": [
    "# define loof forward and look backward windows\n",
    "window_back = 24\n",
    "window_forward = 24\n",
    "shift = 1"
   ]
  },
  {
   "cell_type": "code",
   "execution_count": 9,
   "metadata": {},
   "outputs": [],
   "source": [
    "window_size = window_back + window_forward"
   ]
  },
  {
   "cell_type": "code",
   "execution_count": 10,
   "metadata": {},
   "outputs": [],
   "source": [
    "pts = admissions.iloc[:,1].unique()"
   ]
  },
  {
   "cell_type": "code",
   "execution_count": 11,
   "metadata": {},
   "outputs": [
    {
     "data": {
      "text/plain": [
       "array(['249', '253', '255', ..., '44082', '44089', '44123'], dtype=object)"
      ]
     },
     "execution_count": 11,
     "metadata": {},
     "output_type": "execute_result"
    }
   ],
   "source": [
    "pts"
   ]
  },
  {
   "cell_type": "code",
   "execution_count": 12,
   "metadata": {},
   "outputs": [],
   "source": [
    "from sklearn.model_selection import train_test_split"
   ]
  },
  {
   "cell_type": "code",
   "execution_count": 13,
   "metadata": {},
   "outputs": [
    {
     "name": "stderr",
     "output_type": "stream",
     "text": [
      "C:\\Users\\Merin\\Anaconda3\\lib\\site-packages\\sklearn\\model_selection\\_split.py:2026: FutureWarning: From version 0.21, test_size will always complement train_size unless both are specified.\n",
      "  FutureWarning)\n"
     ]
    }
   ],
   "source": [
    "#split admissions by training and testing \n",
    "trp, tsp = train_test_split(pts, train_size=0.8)\n",
    "tr = admissions[admissions.iloc[:,1].isin(trp)]\n",
    "ts = admissions[admissions.iloc[:,1].isin(tsp)]"
   ]
  },
  {
   "cell_type": "code",
   "execution_count": 14,
   "metadata": {},
   "outputs": [],
   "source": [
    "# select training data with more than minimul window size\n",
    "tr_sel = tr[tr['los_hrs']>=window_size]"
   ]
  },
  {
   "cell_type": "code",
   "execution_count": 15,
   "metadata": {},
   "outputs": [],
   "source": [
    "# look at the first ad mission\n",
    "pt = tr_sel[tr_sel['EXPIRE_FLAG']=='1'].iloc[0,:]"
   ]
  },
  {
   "cell_type": "code",
   "execution_count": 16,
   "metadata": {},
   "outputs": [
    {
     "data": {
      "text/plain": [
       "ROW_ID                                                334\n",
       "SUBJECT_ID                                            257\n",
       "HADM_ID                                            179006\n",
       "ADMITTIME                             2112-12-20 20:45:00\n",
       "DISCHTIME                             2112-12-23 17:00:00\n",
       "DEATHTIME                                                \n",
       "ADMISSION_TYPE                                  EMERGENCY\n",
       "ADMISSION_LOCATION                   EMERGENCY ROOM ADMIT\n",
       "DISCHARGE_LOCATION                       HOME HEALTH CARE\n",
       "INSURANCE                                        Medicare\n",
       "LANGUAGE                                                 \n",
       "RELIGION                                         CATHOLIC\n",
       "MARITAL_STATUS                                    WIDOWED\n",
       "ETHNICITY                                           WHITE\n",
       "EDREGTIME                             2112-12-20 14:35:00\n",
       "EDOUTTIME                             2112-12-20 21:19:00\n",
       "DIAGNOSIS               SUBARACHNOID HEMORRHAGE;TELEMETRY\n",
       "HOSPITAL_EXPIRE_FLAG                                    0\n",
       "HAS_CHARTEVENTS_DATA                                    1\n",
       "ROW_ID                                                241\n",
       "SUBJECT_ID                                            257\n",
       "GENDER                                                  F\n",
       "DOB                                   2031-04-03 00:00:00\n",
       "DOD                                   2121-07-08 00:00:00\n",
       "DOD_HOSP                              2121-07-08 00:00:00\n",
       "DOD_SSN                               2121-07-08 00:00:00\n",
       "EXPIRE_FLAG                                             1\n",
       "age                                               81.7139\n",
       "los_hrs                                             68.25\n",
       "Name: 9, dtype: object"
      ]
     },
     "execution_count": 16,
     "metadata": {},
     "output_type": "execute_result"
    }
   ],
   "source": [
    "pt"
   ]
  },
  {
   "cell_type": "code",
   "execution_count": 17,
   "metadata": {},
   "outputs": [
    {
     "name": "stdout",
     "output_type": "stream",
     "text": [
      "Patient: 249\n",
      "Patient: 249\n",
      "Patient: 249\n",
      "Patient: 253\n",
      "Patient: 255\n",
      "Patient: 256\n",
      "Patient: 256\n",
      "Patient: 256\n",
      "Patient: 256\n",
      "Patient: 257\n",
      "Patient: 261\n",
      "Patient: 266\n",
      "Patient: 268\n",
      "Patient: 270\n",
      "Patient: 664\n",
      "Patient: 665\n",
      "Patient: 665\n",
      "Patient: 667\n",
      "Patient: 668\n",
      "Patient: 670\n",
      "Patient: 674\n",
      "Patient: 674\n",
      "Patient: 679\n",
      "Patient: 679\n",
      "Patient: 680\n",
      "Patient: 682\n",
      "Patient: 688\n",
      "Patient: 690\n",
      "Patient: 690\n",
      "Patient: 690\n",
      "Patient: 690\n",
      "Patient: 690\n",
      "Patient: 690\n",
      "Patient: 695\n",
      "Patient: 695\n",
      "Patient: 698\n",
      "Patient: 698\n",
      "Patient: 700\n",
      "Patient: 703\n",
      "Patient: 703\n",
      "Patient: 704\n",
      "Patient: 705\n",
      "Patient: 707\n",
      "Patient: 708\n",
      "Patient: 709\n",
      "Patient: 710\n",
      "Patient: 711\n",
      "Patient: 711\n",
      "Patient: 711\n",
      "Patient: 711\n",
      "Patient: 711\n",
      "Patient: 712\n",
      "Patient: 716\n",
      "Patient: 717\n",
      "Patient: 718\n",
      "Patient: 719\n",
      "Patient: 723\n",
      "Patient: 726\n",
      "Patient: 727\n",
      "Patient: 728\n",
      "Patient: 728\n",
      "Patient: 731\n",
      "Patient: 731\n",
      "Patient: 732\n",
      "Patient: 733\n",
      "Patient: 740\n",
      "Patient: 743\n",
      "Patient: 744\n",
      "Patient: 746\n",
      "Patient: 747\n",
      "Patient: 747\n",
      "Patient: 749\n",
      "Patient: 752\n",
      "Patient: 754\n",
      "Patient: 755\n",
      "Patient: 755\n",
      "Patient: 756\n",
      "Patient: 765\n",
      "Patient: 766\n",
      "Patient: 767\n",
      "Patient: 768\n",
      "Patient: 770\n",
      "Patient: 771\n",
      "Patient: 771\n",
      "Patient: 772\n",
      "Patient: 774\n",
      "Patient: 779\n",
      "Patient: 779\n",
      "Patient: 780\n",
      "Patient: 781\n",
      "Patient: 781\n",
      "Patient: 781\n",
      "Patient: 782\n",
      "Patient: 782\n",
      "Patient: 784\n",
      "Patient: 785\n",
      "Patient: 786\n",
      "Patient: 787\n",
      "Patient: 787\n",
      "Patient: 788\n",
      "concatenating data\n"
     ]
    },
    {
     "name": "stderr",
     "output_type": "stream",
     "text": [
      "C:\\Users\\Merin\\Anaconda3\\lib\\site-packages\\ipykernel_launcher.py:36: FutureWarning: Sorting because non-concatenation axis is not aligned. A future version\n",
      "of pandas will change to not sort by default.\n",
      "\n",
      "To accept the future behavior, pass 'sort=False'.\n",
      "\n",
      "To retain the current behavior and silence the warning, pass 'sort=True'.\n",
      "\n"
     ]
    }
   ],
   "source": [
    "dts = []\n",
    "for i in admissions.index[:100]:\n",
    "  pt = admissions.iloc[i]  \n",
    "  print('Patient:', pt.iloc[1])\n",
    "  for t in range(window_back, int(pt['los_hrs']), shift):\n",
    "    #print('Current time: ', t)\n",
    "    labs = pd.read_sql(\"select * from labevents where hadm_id = \\\"\" + pt[2] + \n",
    "                       \"\\\" and (julianday(CHARTTIME) - julianday(\\\"\" + pt[3] +\n",
    "                       \"\\\"))*24.0 >= \" + str( t - window_back) +\n",
    "                       \" and (julianday(CHARTTIME) - julianday(\\\"\" + pt[3] +\n",
    "                       \"\\\"))*24.0 < \" + str( t ), conn)\n",
    "    #print('   found labs: ',len(labs.index))\n",
    "    if len(labs.index) > 0:\n",
    "        # output\n",
    "        flag = 0\n",
    "        if ((pt['HOSPITAL_EXPIRE_FLAG'] == '1') \n",
    "            # check if died on day of discharge\n",
    "            and ((time.strptime(pt['DOD_HOSP'],'%Y-%m-%d %H:%M:%S')).tm_year == (time.strptime(pt['DISCHTIME'],'%Y-%m-%d %H:%M:%S')).tm_year)\n",
    "            and ((time.strptime(pt['DOD_HOSP'],'%Y-%m-%d %H:%M:%S')).tm_mon == (time.strptime(pt['DISCHTIME'],'%Y-%m-%d %H:%M:%S')).tm_mon)\n",
    "            and ((time.strptime(pt['DOD_HOSP'],'%Y-%m-%d %H:%M:%S')).tm_mday == (time.strptime(pt['DISCHTIME'],'%Y-%m-%d %H:%M:%S')).tm_mday)\n",
    "            # check if within the window\n",
    "            and (time.mktime(time.strptime(pt['ADMITTIME'],'%Y-%m-%d %H:%M:%S')) + (t + window_forward) * 3600 >\n",
    "                 time.mktime(time.strptime(pt['DOD_HOSP'],'%Y-%m-%d %H:%M:%S')) )\n",
    "           ):\n",
    "            flag = 1\n",
    "            #print('yes')\n",
    "               \n",
    "        labs=labs.replace(\"\",np.nan)\n",
    "        labs['vn'] = labs.apply(lambda r: float(r['VALUENUM']),axis=1)\n",
    "        gr = labs.groupby('ITEMID')\n",
    "        #print(pd.DataFrame(gr['vn'].mean()).T)\n",
    "        d = pd.DataFrame(gr['vn'].mean()).T\n",
    "        d['class'] = flag\n",
    "        dts.append(d)\n",
    "print('concatenating data')\n",
    "dt = pd.concat(dts, ignore_index=True) \n",
    "del dts"
   ]
  },
  {
   "cell_type": "code",
   "execution_count": 33,
   "metadata": {},
   "outputs": [
    {
     "data": {
      "text/plain": [
       "0.01017945680312404"
      ]
     },
     "execution_count": 33,
     "metadata": {},
     "output_type": "execute_result"
    }
   ],
   "source": [
    "dt['class'].mean()\n",
    "# very imbalanced data"
   ]
  },
  {
   "cell_type": "code",
   "execution_count": 34,
   "metadata": {},
   "outputs": [],
   "source": [
    "# apply attribute selection to the data - mainly filters out a lot of non-predictive attributes\n",
    "from sklearn.feature_selection import chi2\n",
    "dt2=pd.DataFrame(dt1)"
   ]
  },
  {
   "cell_type": "code",
   "execution_count": 35,
   "metadata": {},
   "outputs": [],
   "source": [
    "cls = list(dt.columns)\n",
    "cls.remove('class')\n",
    "# frop columns with all missing values\n",
    "dt=dt.dropna(axis=1, how='all')"
   ]
  },
  {
   "cell_type": "code",
   "execution_count": 36,
   "metadata": {},
   "outputs": [],
   "source": [
    "from sklearn.preprocessing import Imputer\n",
    "imp = Imputer()\n",
    "imp.fit(dt)\n",
    "dt1=pd.DataFrame(imp.transform(dt),columns=list(dt.columns))"
   ]
  },
  {
   "cell_type": "code",
   "execution_count": 37,
   "metadata": {},
   "outputs": [],
   "source": [
    "cls = list(dt.columns)\n",
    "cls.remove('class')"
   ]
  },
  {
   "cell_type": "code",
   "execution_count": 38,
   "metadata": {},
   "outputs": [],
   "source": [
    "dt2[dt2<0] = 0"
   ]
  },
  {
   "cell_type": "code",
   "execution_count": 39,
   "metadata": {},
   "outputs": [],
   "source": [
    "dt2=dt2.dropna(axis=1, how='all')"
   ]
  },
  {
   "cell_type": "code",
   "execution_count": 40,
   "metadata": {},
   "outputs": [
    {
     "data": {
      "text/plain": [
       "(array([2.26516921e+00, 2.69101815e+02, 2.93854424e-27, 2.25352446e+01,\n",
       "        3.23759295e-26, 3.27696524e-24, 1.01345013e-02, 1.27844462e+01,\n",
       "        7.56188970e-24, 7.98819657e-25, 6.03675549e+01, 1.55399770e-25,\n",
       "        2.71129303e+00, 1.79965270e+02, 2.95484808e-01, 7.24519530e+02,\n",
       "        7.18729661e+01, 2.04392331e-01, 1.79113308e+02, 2.29025493e-01,\n",
       "        6.07608032e-02, 7.11989985e-23, 2.36655683e-01, 1.65944445e+00,\n",
       "        3.30649333e-24, 0.00000000e+00, 1.10304539e-25, 3.48186882e-30,\n",
       "        2.09346564e-27, 1.59171146e-29, 4.09376558e-25, 3.86067493e+00,\n",
       "        3.10131625e-01, 3.60916554e+00, 1.65671520e-23, 2.40243502e-27,\n",
       "        1.13301840e+01, 1.04321838e+02, 3.01825849e+00, 5.52377141e+00,\n",
       "        5.59886533e-02, 5.86211898e+01, 3.41503649e-24, 1.49115810e+00,\n",
       "        6.70520720e-26, 2.76845748e-24, 3.01919552e-26, 8.55228203e+00,\n",
       "        6.71944875e-25, 8.84908421e-24, 3.30829634e-25, 2.26376741e-28,\n",
       "        2.65149513e-23, 4.45148522e-26, 1.30435234e+03, 2.83584991e+03,\n",
       "        1.25220541e+02, 1.33249371e+01, 1.03576041e-26, 5.26127299e-23,\n",
       "        4.44701791e-24, 4.56375510e-28, 4.56402020e-25, 1.08293555e-25,\n",
       "        1.58926326e+02, 1.17675087e+02, 1.80439976e-23, 2.12236438e-22,\n",
       "        6.36134929e-28, 5.72633037e-24, 3.33563757e-23, 6.74592800e+02,\n",
       "        2.20698603e-23, 2.89557989e+00, 3.23522688e-26, 9.94063483e-24,\n",
       "        5.23366411e-28, 2.60118064e+00, 5.49315409e+01, 1.41941830e+01,\n",
       "        2.17616801e-30, 5.11786424e-25, 1.84240649e+00, 1.39274753e-29,\n",
       "        4.35384410e+00, 1.36375878e-24, 2.36581093e-03, 1.03273650e-24,\n",
       "        3.04513399e-24, 0.00000000e+00, 1.51202587e-24, 1.43115028e+00,\n",
       "        6.24719171e-26, 1.02298039e+03, 8.37099734e-27, 3.57887268e+01,\n",
       "        1.85232609e-22, 1.25102185e-24, 1.19128038e-24, 0.00000000e+00,\n",
       "        4.49188494e-28, 3.75378998e-28, 7.11432718e-25, 1.29260560e-23,\n",
       "        4.96060337e-28, 7.25052661e-24, 4.97115777e-24, 3.00303199e-27,\n",
       "        4.10409632e-28, 7.60878409e-25, 4.19462785e-28, 1.06629792e-27,\n",
       "        8.87890098e-28, 5.51187955e-24, 4.43399713e-24, 4.45058056e-25,\n",
       "        5.57099012e-29, 1.10304539e-25, 7.04227405e+01, 0.00000000e+00,\n",
       "        8.67609089e+00, 0.00000000e+00, 2.88942469e-23, 6.49418094e-25,\n",
       "        4.60311011e-26, 6.57618045e-24, 0.00000000e+00, 3.26046694e-23,\n",
       "        2.85318520e-22, 0.00000000e+00, 0.00000000e+00, 0.00000000e+00,\n",
       "        6.82430670e-27, 3.48186882e-30,            nan, 0.00000000e+00,\n",
       "        0.00000000e+00, 1.46040163e-26, 3.54036760e-26, 9.29143907e-01,\n",
       "        2.31670370e+03, 1.08106686e+00, 1.04982709e+04, 3.64047782e+00,\n",
       "        2.04101940e-01, 2.15784527e-22, 3.01524285e+01, 3.48922467e+00,\n",
       "        3.21593410e+00, 1.67518987e+01, 1.51903149e+01, 7.59577648e+00,\n",
       "        1.43187618e+02, 3.95388941e+01, 1.04647828e+00, 1.81532054e+00,\n",
       "        3.77897266e+01, 3.48186882e-30, 3.48186882e-30, 1.66797660e+04,\n",
       "        1.77592192e+01, 5.70187061e+01, 3.47991716e-25, 1.29304546e+01,\n",
       "        1.97207109e-02, 7.93282624e-26, 3.48186882e-30, 2.70596761e-23,\n",
       "        8.77557085e+02, 3.48186882e-30, 4.47538514e-26, 1.20154232e-26,\n",
       "        2.20179274e-26, 9.23171827e-22, 3.77795765e-24, 0.00000000e+00,\n",
       "        3.18342292e-29, 0.00000000e+00, 5.89688988e-26, 0.00000000e+00,\n",
       "                   nan, 3.48186882e-30, 3.48186882e-30, 0.00000000e+00,\n",
       "        0.00000000e+00, 3.18342292e-29, 0.00000000e+00, 0.00000000e+00,\n",
       "        3.70660313e-27, 6.96373765e-30, 3.48186882e-30, 3.48186882e-30,\n",
       "        9.62993270e-24, 1.59171146e-29, 2.79391486e-24, 1.49950043e-26,\n",
       "        1.74093441e-30, 1.61096015e-25, 5.99325559e-21, 1.02972820e-21,\n",
       "        1.11506226e+00, 6.68804373e-23, 4.01459381e+00, 9.66425800e+01,\n",
       "        1.20487867e-23, 4.19027613e-01, 6.96460454e+00, 5.85596706e+00,\n",
       "        1.67119874e-05, 2.94257025e-25, 5.18381282e+01]),\n",
       " array([1.32311760e-001, 1.78100844e-060, 1.00000000e+000, 2.06323207e-006,\n",
       "        1.00000000e+000, 1.00000000e+000, 9.19812220e-001, 3.49513218e-004,\n",
       "        1.00000000e+000, 1.00000000e+000, 7.86995421e-015, 1.00000000e+000,\n",
       "        9.96401988e-002, 4.93177435e-041, 5.86726985e-001, 1.39283803e-159,\n",
       "        2.29506768e-017, 6.51198600e-001, 7.56874089e-041, 6.32247354e-001,\n",
       "        8.05297476e-001, 1.00000000e+000, 6.26632060e-001, 1.97678350e-001,\n",
       "        1.00000000e+000, 1.00000000e+000, 1.00000000e+000, 1.00000000e+000,\n",
       "        1.00000000e+000, 1.00000000e+000, 1.00000000e+000, 4.94304402e-002,\n",
       "        5.77599426e-001, 5.74619452e-002, 1.00000000e+000, 1.00000000e+000,\n",
       "        7.62573434e-004, 1.71982996e-024, 8.23318353e-002, 1.87597725e-002,\n",
       "        8.12952211e-001, 1.91146699e-014, 1.00000000e+000, 2.22036861e-001,\n",
       "        1.00000000e+000, 1.00000000e+000, 1.00000000e+000, 3.45089351e-003,\n",
       "        1.00000000e+000, 1.00000000e+000, 1.00000000e+000, 1.00000000e+000,\n",
       "        1.00000000e+000, 1.00000000e+000, 1.28055410e-285, 0.00000000e+000,\n",
       "        4.55413257e-029, 2.61899693e-004, 1.00000000e+000, 1.00000000e+000,\n",
       "        1.00000000e+000, 1.00000000e+000, 1.00000000e+000, 1.00000000e+000,\n",
       "        1.94194979e-036, 2.04249952e-027, 1.00000000e+000, 1.00000000e+000,\n",
       "        1.00000000e+000, 1.00000000e+000, 1.00000000e+000, 1.00187248e-148,\n",
       "        1.00000000e+000, 8.88228083e-002, 1.00000000e+000, 1.00000000e+000,\n",
       "        1.00000000e+000, 1.06784139e-001, 1.24802025e-013, 1.64879432e-004,\n",
       "        1.00000000e+000, 1.00000000e+000, 1.74669154e-001, 1.00000000e+000,\n",
       "        3.69255095e-002, 1.00000000e+000, 9.61206509e-001, 1.00000000e+000,\n",
       "        1.00000000e+000, 1.00000000e+000, 1.00000000e+000, 2.31576804e-001,\n",
       "        1.00000000e+000, 1.81640889e-224, 1.00000000e+000, 2.19916727e-009,\n",
       "        1.00000000e+000, 1.00000000e+000, 1.00000000e+000, 1.00000000e+000,\n",
       "        1.00000000e+000, 1.00000000e+000, 1.00000000e+000, 1.00000000e+000,\n",
       "        1.00000000e+000, 1.00000000e+000, 1.00000000e+000, 1.00000000e+000,\n",
       "        1.00000000e+000, 1.00000000e+000, 1.00000000e+000, 1.00000000e+000,\n",
       "        1.00000000e+000, 1.00000000e+000, 1.00000000e+000, 1.00000000e+000,\n",
       "        1.00000000e+000, 1.00000000e+000, 4.78649729e-017, 1.00000000e+000,\n",
       "        3.22411805e-003, 1.00000000e+000, 1.00000000e+000, 1.00000000e+000,\n",
       "        1.00000000e+000, 1.00000000e+000, 1.00000000e+000, 1.00000000e+000,\n",
       "        1.00000000e+000, 1.00000000e+000, 1.00000000e+000, 1.00000000e+000,\n",
       "        1.00000000e+000, 1.00000000e+000,             nan, 1.00000000e+000,\n",
       "        1.00000000e+000, 1.00000000e+000, 1.00000000e+000, 3.35085479e-001,\n",
       "        0.00000000e+000, 2.98459016e-001, 0.00000000e+000, 5.63907481e-002,\n",
       "        6.51430053e-001, 1.00000000e+000, 3.99386764e-008, 6.17695081e-002,\n",
       "        7.29245569e-002, 4.25996144e-005, 9.72006691e-005, 5.85051928e-003,\n",
       "        5.34821958e-033, 3.21590137e-010, 3.06319567e-001, 1.77871297e-001,\n",
       "        7.87956385e-010, 1.00000000e+000, 1.00000000e+000, 0.00000000e+000,\n",
       "        2.50699675e-005, 4.31686205e-014, 1.00000000e+000, 3.23279268e-004,\n",
       "        8.88319902e-001, 1.00000000e+000, 1.00000000e+000, 1.00000000e+000,\n",
       "        7.42521490e-193, 1.00000000e+000, 1.00000000e+000, 1.00000000e+000,\n",
       "        1.00000000e+000, 1.00000000e+000, 1.00000000e+000, 1.00000000e+000,\n",
       "        1.00000000e+000, 1.00000000e+000, 1.00000000e+000, 1.00000000e+000,\n",
       "                    nan, 1.00000000e+000, 1.00000000e+000, 1.00000000e+000,\n",
       "        1.00000000e+000, 1.00000000e+000, 1.00000000e+000, 1.00000000e+000,\n",
       "        1.00000000e+000, 1.00000000e+000, 1.00000000e+000, 1.00000000e+000,\n",
       "        1.00000000e+000, 1.00000000e+000, 1.00000000e+000, 1.00000000e+000,\n",
       "        1.00000000e+000, 1.00000000e+000, 1.00000000e+000, 1.00000000e+000,\n",
       "        2.90984167e-001, 1.00000000e+000, 4.51080879e-002, 8.30430107e-023,\n",
       "        1.00000000e+000, 5.17422645e-001, 8.31378055e-003, 1.55243255e-002,\n",
       "        9.96738233e-001, 1.00000000e+000, 6.02699875e-013]))"
      ]
     },
     "execution_count": 40,
     "metadata": {},
     "output_type": "execute_result"
    }
   ],
   "source": [
    "chi2(dt2[cls],dt2['class'])"
   ]
  },
  {
   "cell_type": "markdown",
   "metadata": {},
   "source": [
    "### 2. Use three different supervised learning methods to build models to predict mortality within 24 hours."
   ]
  },
  {
   "cell_type": "markdown",
   "metadata": {},
   "source": [
    "### Logistic Regression"
   ]
  },
  {
   "cell_type": "code",
   "execution_count": 41,
   "metadata": {},
   "outputs": [
    {
     "data": {
      "text/plain": [
       "[<matplotlib.lines.Line2D at 0x1c7b4246b38>]"
      ]
     },
     "execution_count": 41,
     "metadata": {},
     "output_type": "execute_result"
    },
    {
     "data": {
      "image/png": "[encoded data removed]",
      "text/plain": [
       "<Figure size 432x288 with 1 Axes>"
      ]
     },
     "metadata": {
      "needs_background": "light"
     },
     "output_type": "display_data"
    }
   ],
   "source": [
    "from sklearn.linear_model import LogisticRegression\n",
    "lr = LogisticRegression()\n",
    "lr.fit(dt2[cls],dt2['class'])\n",
    "\n",
    "probs = lr.predict_proba(dt2[cls])\n",
    "\n",
    "from sklearn.metrics import auc\n",
    "from sklearn.metrics import roc_curve\n",
    "fpr, tpr, thresholds = roc_curve(dt2['class'], probs[:,1])\n",
    "\n",
    "auc(fpr,tpr)\n",
    "\n",
    "from matplotlib import pyplot as plt\n",
    "\n",
    "plt.plot(fpr,tpr)"
   ]
  },
  {
   "cell_type": "markdown",
   "metadata": {},
   "source": [
    "### Random Forest"
   ]
  },
  {
   "cell_type": "code",
   "execution_count": 42,
   "metadata": {},
   "outputs": [
    {
     "data": {
      "text/plain": [
       "[<matplotlib.lines.Line2D at 0x1c7b439f8d0>]"
      ]
     },
     "execution_count": 42,
     "metadata": {},
     "output_type": "execute_result"
    },
    {
     "data": {
      "image/png": "[encoded data removed]",
      "text/plain": [
       "<Figure size 432x288 with 1 Axes>"
      ]
     },
     "metadata": {
      "needs_background": "light"
     },
     "output_type": "display_data"
    }
   ],
   "source": [
    "from sklearn.ensemble import RandomForestClassifier\n",
    "\n",
    "rf = RandomForestClassifier(n_estimators = 100)\n",
    "\n",
    "rf.fit(dt2[cls],dt2['class'])\n",
    "\n",
    "probs = rf.predict_proba(dt2[cls])\n",
    "\n",
    "fpr, tpr, thresholds = roc_curve(dt2['class'], probs[:,1])\n",
    "auc(fpr,tpr)\n",
    "plt.plot(fpr,tpr)"
   ]
  },
  {
   "cell_type": "markdown",
   "metadata": {},
   "source": [
    "### Naive Bayes"
   ]
  },
  {
   "cell_type": "code",
   "execution_count": 43,
   "metadata": {},
   "outputs": [
    {
     "data": {
      "text/plain": [
       "[<matplotlib.lines.Line2D at 0x1c7b4498160>]"
      ]
     },
     "execution_count": 43,
     "metadata": {},
     "output_type": "execute_result"
    },
    {
     "data": {
      "image/png": "[encoded data removed]",
      "text/plain": [
       "<Figure size 432x288 with 1 Axes>"
      ]
     },
     "metadata": {
      "needs_background": "light"
     },
     "output_type": "display_data"
    }
   ],
   "source": [
    "from sklearn.naive_bayes import GaussianNB\n",
    "\n",
    "nb = GaussianNB()\n",
    "\n",
    "nb.fit(dt2[cls],dt2['class'])\n",
    "\n",
    "probs = nb.predict_proba(dt2[cls])\n",
    "\n",
    "fpr, tpr, thresholds = roc_curve(dt2['class'], probs[:,1])\n",
    "auc(fpr,tpr)\n",
    "plt.plot(fpr,tpr)"
   ]
  },
  {
   "cell_type": "markdown",
   "metadata": {},
   "source": [
    "### 3. Test if changing look backward window size between 6, 12, 24 hours  makes difference in model accracy."
   ]
  },
  {
   "cell_type": "markdown",
   "metadata": {},
   "source": [
    "### Window_back = 6"
   ]
  },
  {
   "cell_type": "code",
   "execution_count": 46,
   "metadata": {},
   "outputs": [
    {
     "name": "stderr",
     "output_type": "stream",
     "text": [
      "C:\\Users\\Merin\\Anaconda3\\lib\\site-packages\\sklearn\\model_selection\\_split.py:2026: FutureWarning: From version 0.21, test_size will always complement train_size unless both are specified.\n",
      "  FutureWarning)\n"
     ]
    },
    {
     "name": "stdout",
     "output_type": "stream",
     "text": [
      "Patient: 249\n",
      "Patient: 249\n",
      "Patient: 249\n",
      "Patient: 253\n",
      "Patient: 255\n",
      "Patient: 256\n",
      "Patient: 256\n",
      "Patient: 256\n",
      "Patient: 256\n",
      "Patient: 257\n",
      "Patient: 261\n",
      "Patient: 266\n",
      "Patient: 268\n",
      "Patient: 270\n",
      "Patient: 664\n",
      "Patient: 665\n",
      "Patient: 665\n",
      "Patient: 667\n",
      "Patient: 668\n",
      "Patient: 670\n",
      "Patient: 674\n",
      "Patient: 674\n",
      "Patient: 679\n",
      "Patient: 679\n",
      "Patient: 680\n",
      "Patient: 682\n",
      "Patient: 688\n",
      "Patient: 690\n",
      "Patient: 690\n",
      "Patient: 690\n",
      "Patient: 690\n",
      "Patient: 690\n",
      "Patient: 690\n",
      "Patient: 695\n",
      "Patient: 695\n",
      "Patient: 698\n",
      "Patient: 698\n",
      "Patient: 700\n",
      "Patient: 703\n",
      "Patient: 703\n",
      "Patient: 704\n",
      "Patient: 705\n",
      "Patient: 707\n",
      "Patient: 708\n",
      "Patient: 709\n",
      "Patient: 710\n",
      "Patient: 711\n",
      "Patient: 711\n",
      "Patient: 711\n",
      "Patient: 711\n",
      "Patient: 711\n",
      "Patient: 712\n",
      "Patient: 716\n",
      "Patient: 717\n",
      "Patient: 718\n",
      "Patient: 719\n",
      "Patient: 723\n",
      "Patient: 726\n",
      "Patient: 727\n",
      "Patient: 728\n",
      "Patient: 728\n",
      "Patient: 731\n",
      "Patient: 731\n",
      "Patient: 732\n",
      "Patient: 733\n",
      "Patient: 740\n",
      "Patient: 743\n",
      "Patient: 744\n",
      "Patient: 746\n",
      "Patient: 747\n",
      "Patient: 747\n",
      "Patient: 749\n",
      "Patient: 752\n",
      "Patient: 754\n",
      "Patient: 755\n",
      "Patient: 755\n",
      "Patient: 756\n",
      "Patient: 765\n",
      "Patient: 766\n",
      "Patient: 767\n",
      "Patient: 768\n",
      "Patient: 770\n",
      "Patient: 771\n",
      "Patient: 771\n",
      "Patient: 772\n",
      "Patient: 774\n",
      "Patient: 779\n",
      "Patient: 779\n",
      "Patient: 780\n",
      "Patient: 781\n",
      "Patient: 781\n",
      "Patient: 781\n",
      "Patient: 782\n",
      "Patient: 782\n",
      "Patient: 784\n",
      "Patient: 785\n",
      "Patient: 786\n",
      "Patient: 787\n",
      "Patient: 787\n",
      "Patient: 788\n",
      "concatenating data\n"
     ]
    },
    {
     "name": "stderr",
     "output_type": "stream",
     "text": [
      "C:\\Users\\Merin\\Anaconda3\\lib\\site-packages\\ipykernel_launcher.py:54: FutureWarning: Sorting because non-concatenation axis is not aligned. A future version\n",
      "of pandas will change to not sort by default.\n",
      "\n",
      "To accept the future behavior, pass 'sort=False'.\n",
      "\n",
      "To retain the current behavior and silence the warning, pass 'sort=True'.\n",
      "\n"
     ]
    }
   ],
   "source": [
    "# define loof forward and look backward windows\n",
    "window_back = 6\n",
    "window_forward = 24\n",
    "shift = 1\n",
    "window_size = window_back + window_forward\n",
    "pts = admissions.iloc[:,1].unique()\n",
    "\n",
    "from sklearn.model_selection import train_test_split\n",
    "\n",
    "#split admissions by training and testing \n",
    "trp, tsp = train_test_split(pts, train_size=0.8)\n",
    "tr = admissions[admissions.iloc[:,1].isin(trp)]\n",
    "ts = admissions[admissions.iloc[:,1].isin(tsp)]\n",
    "# select training data with more than minimul window size\n",
    "tr_sel = tr[tr['los_hrs']>=window_size]\n",
    "# look at the first ad mission\n",
    "pt = tr_sel[tr_sel['EXPIRE_FLAG']=='1'].iloc[0,:]\n",
    "\n",
    "dts = []\n",
    "for i in admissions.index[:100]:\n",
    "  pt = admissions.iloc[i]  \n",
    "  print('Patient:', pt.iloc[1])\n",
    "  for t in range(window_back, int(pt['los_hrs']), shift):\n",
    "    #print('Current time: ', t)\n",
    "    labs = pd.read_sql(\"select * from labevents where hadm_id = \\\"\" + pt[2] + \n",
    "                       \"\\\" and (julianday(CHARTTIME) - julianday(\\\"\" + pt[3] +\n",
    "                       \"\\\"))*24.0 >= \" + str( t - window_back) +\n",
    "                       \" and (julianday(CHARTTIME) - julianday(\\\"\" + pt[3] +\n",
    "                       \"\\\"))*24.0 < \" + str( t ), conn)\n",
    "    #print('   found labs: ',len(labs.index))\n",
    "    if len(labs.index) > 0:\n",
    "        # output\n",
    "        flag = 0\n",
    "        if ((pt['HOSPITAL_EXPIRE_FLAG'] == '1') \n",
    "            # check if died on day of discharge\n",
    "            and ((time.strptime(pt['DOD_HOSP'],'%Y-%m-%d %H:%M:%S')).tm_year == (time.strptime(pt['DISCHTIME'],'%Y-%m-%d %H:%M:%S')).tm_year)\n",
    "            and ((time.strptime(pt['DOD_HOSP'],'%Y-%m-%d %H:%M:%S')).tm_mon == (time.strptime(pt['DISCHTIME'],'%Y-%m-%d %H:%M:%S')).tm_mon)\n",
    "            and ((time.strptime(pt['DOD_HOSP'],'%Y-%m-%d %H:%M:%S')).tm_mday == (time.strptime(pt['DISCHTIME'],'%Y-%m-%d %H:%M:%S')).tm_mday)\n",
    "            # check if within the window\n",
    "            and (time.mktime(time.strptime(pt['ADMITTIME'],'%Y-%m-%d %H:%M:%S')) + (t + window_forward) * 3600 >\n",
    "                 time.mktime(time.strptime(pt['DOD_HOSP'],'%Y-%m-%d %H:%M:%S')) )\n",
    "           ):\n",
    "            flag = 1\n",
    "            #print('yes')\n",
    "               \n",
    "        labs=labs.replace(\"\",np.nan)\n",
    "        labs['vn'] = labs.apply(lambda r: float(r['VALUENUM']),axis=1)\n",
    "        gr = labs.groupby('ITEMID')\n",
    "        #print(pd.DataFrame(gr['vn'].mean()).T)\n",
    "        d = pd.DataFrame(gr['vn'].mean()).T\n",
    "        d['class'] = flag\n",
    "        dts.append(d)\n",
    "print('concatenating data')\n",
    "dt = pd.concat(dts, ignore_index=True) \n",
    "del dts\n",
    "\n"
   ]
  },
  {
   "cell_type": "code",
   "execution_count": 48,
   "metadata": {},
   "outputs": [
    {
     "data": {
      "text/plain": [
       "[<matplotlib.lines.Line2D at 0x1c7b98891d0>]"
      ]
     },
     "execution_count": 48,
     "metadata": {},
     "output_type": "execute_result"
    },
    {
     "data": {
      "image/png": "[encoded data removed]",
      "text/plain": [
       "<Figure size 432x288 with 1 Axes>"
      ]
     },
     "metadata": {
      "needs_background": "light"
     },
     "output_type": "display_data"
    }
   ],
   "source": [
    "from sklearn.feature_selection import chi2\n",
    "dt2=pd.DataFrame(dt1)\n",
    "\n",
    "cls = list(dt.columns)\n",
    "cls.remove('class')\n",
    "# frop columns with all missing values\n",
    "dt=dt.dropna(axis=1, how='all')\n",
    "\n",
    "from sklearn.preprocessing import Imputer\n",
    "imp = Imputer()\n",
    "imp.fit(dt)\n",
    "dt1=pd.DataFrame(imp.transform(dt),columns=list(dt.columns))\n",
    "\n",
    "cls = list(dt.columns)\n",
    "cls.remove('class')\n",
    "\n",
    "dt2[dt2<0] = 0\n",
    "\n",
    "dt2=dt2.dropna(axis=1, how='all')\n",
    "\n",
    "chi2(dt2[cls],dt2['class'])\n",
    "\n",
    "from sklearn.linear_model import LogisticRegression\n",
    "lr = LogisticRegression()\n",
    "lr.fit(dt1[cls],dt1['class'])\n",
    "\n",
    "probs = lr.predict_proba(dt1[cls])\n",
    "\n",
    "from sklearn.metrics import auc\n",
    "from sklearn.metrics import roc_curve\n",
    "fpr, tpr, thresholds = roc_curve(dt1['class'], probs[:,1])\n",
    "\n",
    "auc(fpr,tpr)\n",
    "\n",
    "from matplotlib import pyplot as plt\n",
    "\n",
    "plt.plot(fpr,tpr)"
   ]
  },
  {
   "cell_type": "markdown",
   "metadata": {},
   "source": [
    "### Window size = 12"
   ]
  },
  {
   "cell_type": "code",
   "execution_count": 49,
   "metadata": {},
   "outputs": [
    {
     "name": "stderr",
     "output_type": "stream",
     "text": [
      "C:\\Users\\Merin\\Anaconda3\\lib\\site-packages\\sklearn\\model_selection\\_split.py:2026: FutureWarning: From version 0.21, test_size will always complement train_size unless both are specified.\n",
      "  FutureWarning)\n"
     ]
    },
    {
     "name": "stdout",
     "output_type": "stream",
     "text": [
      "Patient: 249\n",
      "Patient: 249\n",
      "Patient: 249\n",
      "Patient: 253\n",
      "Patient: 255\n",
      "Patient: 256\n",
      "Patient: 256\n",
      "Patient: 256\n",
      "Patient: 256\n",
      "Patient: 257\n",
      "Patient: 261\n",
      "Patient: 266\n",
      "Patient: 268\n",
      "Patient: 270\n",
      "Patient: 664\n",
      "Patient: 665\n",
      "Patient: 665\n",
      "Patient: 667\n",
      "Patient: 668\n",
      "Patient: 670\n",
      "Patient: 674\n",
      "Patient: 674\n",
      "Patient: 679\n",
      "Patient: 679\n",
      "Patient: 680\n",
      "Patient: 682\n",
      "Patient: 688\n",
      "Patient: 690\n",
      "Patient: 690\n",
      "Patient: 690\n",
      "Patient: 690\n",
      "Patient: 690\n",
      "Patient: 690\n",
      "Patient: 695\n",
      "Patient: 695\n",
      "Patient: 698\n",
      "Patient: 698\n",
      "Patient: 700\n",
      "Patient: 703\n",
      "Patient: 703\n",
      "Patient: 704\n",
      "Patient: 705\n",
      "Patient: 707\n",
      "Patient: 708\n",
      "Patient: 709\n",
      "Patient: 710\n",
      "Patient: 711\n",
      "Patient: 711\n",
      "Patient: 711\n",
      "Patient: 711\n",
      "Patient: 711\n",
      "Patient: 712\n",
      "Patient: 716\n",
      "Patient: 717\n",
      "Patient: 718\n",
      "Patient: 719\n",
      "Patient: 723\n",
      "Patient: 726\n",
      "Patient: 727\n",
      "Patient: 728\n",
      "Patient: 728\n",
      "Patient: 731\n",
      "Patient: 731\n",
      "Patient: 732\n",
      "Patient: 733\n",
      "Patient: 740\n",
      "Patient: 743\n",
      "Patient: 744\n",
      "Patient: 746\n",
      "Patient: 747\n",
      "Patient: 747\n",
      "Patient: 749\n",
      "Patient: 752\n",
      "Patient: 754\n",
      "Patient: 755\n",
      "Patient: 755\n",
      "Patient: 756\n",
      "Patient: 765\n",
      "Patient: 766\n",
      "Patient: 767\n",
      "Patient: 768\n",
      "Patient: 770\n",
      "Patient: 771\n",
      "Patient: 771\n",
      "Patient: 772\n",
      "Patient: 774\n",
      "Patient: 779\n",
      "Patient: 779\n",
      "Patient: 780\n",
      "Patient: 781\n",
      "Patient: 781\n",
      "Patient: 781\n",
      "Patient: 782\n",
      "Patient: 782\n",
      "Patient: 784\n",
      "Patient: 785\n",
      "Patient: 786\n",
      "Patient: 787\n",
      "Patient: 787\n",
      "Patient: 788\n",
      "concatenating data\n"
     ]
    },
    {
     "name": "stderr",
     "output_type": "stream",
     "text": [
      "C:\\Users\\Merin\\Anaconda3\\lib\\site-packages\\ipykernel_launcher.py:54: FutureWarning: Sorting because non-concatenation axis is not aligned. A future version\n",
      "of pandas will change to not sort by default.\n",
      "\n",
      "To accept the future behavior, pass 'sort=False'.\n",
      "\n",
      "To retain the current behavior and silence the warning, pass 'sort=True'.\n",
      "\n"
     ]
    }
   ],
   "source": [
    "# define loof forward and look backward windows\n",
    "window_back = 12\n",
    "window_forward = 24\n",
    "shift = 1\n",
    "window_size = window_back + window_forward\n",
    "pts = admissions.iloc[:,1].unique()\n",
    "\n",
    "from sklearn.model_selection import train_test_split\n",
    "\n",
    "#split admissions by training and testing \n",
    "trp, tsp = train_test_split(pts, train_size=0.8)\n",
    "tr = admissions[admissions.iloc[:,1].isin(trp)]\n",
    "ts = admissions[admissions.iloc[:,1].isin(tsp)]\n",
    "# select training data with more than minimul window size\n",
    "tr_sel = tr[tr['los_hrs']>=window_size]\n",
    "# look at the first ad mission\n",
    "pt = tr_sel[tr_sel['EXPIRE_FLAG']=='1'].iloc[0,:]\n",
    "\n",
    "dts = []\n",
    "for i in admissions.index[:100]:\n",
    "  pt = admissions.iloc[i]  \n",
    "  print('Patient:', pt.iloc[1])\n",
    "  for t in range(window_back, int(pt['los_hrs']), shift):\n",
    "    #print('Current time: ', t)\n",
    "    labs = pd.read_sql(\"select * from labevents where hadm_id = \\\"\" + pt[2] + \n",
    "                       \"\\\" and (julianday(CHARTTIME) - julianday(\\\"\" + pt[3] +\n",
    "                       \"\\\"))*24.0 >= \" + str( t - window_back) +\n",
    "                       \" and (julianday(CHARTTIME) - julianday(\\\"\" + pt[3] +\n",
    "                       \"\\\"))*24.0 < \" + str( t ), conn)\n",
    "    #print('   found labs: ',len(labs.index))\n",
    "    if len(labs.index) > 0:\n",
    "        # output\n",
    "        flag = 0\n",
    "        if ((pt['HOSPITAL_EXPIRE_FLAG'] == '1') \n",
    "            # check if died on day of discharge\n",
    "            and ((time.strptime(pt['DOD_HOSP'],'%Y-%m-%d %H:%M:%S')).tm_year == (time.strptime(pt['DISCHTIME'],'%Y-%m-%d %H:%M:%S')).tm_year)\n",
    "            and ((time.strptime(pt['DOD_HOSP'],'%Y-%m-%d %H:%M:%S')).tm_mon == (time.strptime(pt['DISCHTIME'],'%Y-%m-%d %H:%M:%S')).tm_mon)\n",
    "            and ((time.strptime(pt['DOD_HOSP'],'%Y-%m-%d %H:%M:%S')).tm_mday == (time.strptime(pt['DISCHTIME'],'%Y-%m-%d %H:%M:%S')).tm_mday)\n",
    "            # check if within the window\n",
    "            and (time.mktime(time.strptime(pt['ADMITTIME'],'%Y-%m-%d %H:%M:%S')) + (t + window_forward) * 3600 >\n",
    "                 time.mktime(time.strptime(pt['DOD_HOSP'],'%Y-%m-%d %H:%M:%S')) )\n",
    "           ):\n",
    "            flag = 1\n",
    "            #print('yes')\n",
    "               \n",
    "        labs=labs.replace(\"\",np.nan)\n",
    "        labs['vn'] = labs.apply(lambda r: float(r['VALUENUM']),axis=1)\n",
    "        gr = labs.groupby('ITEMID')\n",
    "        #print(pd.DataFrame(gr['vn'].mean()).T)\n",
    "        d = pd.DataFrame(gr['vn'].mean()).T\n",
    "        d['class'] = flag\n",
    "        dts.append(d)\n",
    "print('concatenating data')\n",
    "dt = pd.concat(dts, ignore_index=True) \n",
    "del dts"
   ]
  },
  {
   "cell_type": "code",
   "execution_count": 50,
   "metadata": {},
   "outputs": [
    {
     "data": {
      "text/plain": [
       "[<matplotlib.lines.Line2D at 0x1c7b3c03c18>]"
      ]
     },
     "execution_count": 50,
     "metadata": {},
     "output_type": "execute_result"
    },
    {
     "data": {
      "image/png": "[encoded data removed]",
      "text/plain": [
       "<Figure size 432x288 with 1 Axes>"
      ]
     },
     "metadata": {
      "needs_background": "light"
     },
     "output_type": "display_data"
    }
   ],
   "source": [
    "from sklearn.feature_selection import chi2\n",
    "dt2=pd.DataFrame(dt1)\n",
    "\n",
    "cls = list(dt.columns)\n",
    "cls.remove('class')\n",
    "# frop columns with all missing values\n",
    "dt=dt.dropna(axis=1, how='all')\n",
    "\n",
    "from sklearn.preprocessing import Imputer\n",
    "imp = Imputer()\n",
    "imp.fit(dt)\n",
    "dt1=pd.DataFrame(imp.transform(dt),columns=list(dt.columns))\n",
    "\n",
    "cls = list(dt.columns)\n",
    "cls.remove('class')\n",
    "\n",
    "dt2[dt2<0] = 0\n",
    "\n",
    "dt2=dt2.dropna(axis=1, how='all')\n",
    "\n",
    "chi2(dt2[cls],dt2['class'])\n",
    "\n",
    "from sklearn.linear_model import LogisticRegression\n",
    "lr = LogisticRegression()\n",
    "lr.fit(dt1[cls],dt1['class'])\n",
    "\n",
    "probs = lr.predict_proba(dt1[cls])\n",
    "\n",
    "from sklearn.metrics import auc\n",
    "from sklearn.metrics import roc_curve\n",
    "fpr, tpr, thresholds = roc_curve(dt1['class'], probs[:,1])\n",
    "\n",
    "auc(fpr,tpr)\n",
    "\n",
    "from matplotlib import pyplot as plt\n",
    "\n",
    "plt.plot(fpr,tpr)"
   ]
  },
  {
   "cell_type": "markdown",
   "metadata": {},
   "source": [
    "### Window size = 24"
   ]
  },
  {
   "cell_type": "code",
   "execution_count": 51,
   "metadata": {},
   "outputs": [
    {
     "name": "stderr",
     "output_type": "stream",
     "text": [
      "C:\\Users\\Merin\\Anaconda3\\lib\\site-packages\\sklearn\\model_selection\\_split.py:2026: FutureWarning: From version 0.21, test_size will always complement train_size unless both are specified.\n",
      "  FutureWarning)\n"
     ]
    },
    {
     "name": "stdout",
     "output_type": "stream",
     "text": [
      "Patient: 249\n",
      "Patient: 249\n",
      "Patient: 249\n",
      "Patient: 253\n",
      "Patient: 255\n",
      "Patient: 256\n",
      "Patient: 256\n",
      "Patient: 256\n",
      "Patient: 256\n",
      "Patient: 257\n",
      "Patient: 261\n",
      "Patient: 266\n",
      "Patient: 268\n",
      "Patient: 270\n",
      "Patient: 664\n",
      "Patient: 665\n",
      "Patient: 665\n",
      "Patient: 667\n",
      "Patient: 668\n",
      "Patient: 670\n",
      "Patient: 674\n",
      "Patient: 674\n",
      "Patient: 679\n",
      "Patient: 679\n",
      "Patient: 680\n",
      "Patient: 682\n",
      "Patient: 688\n",
      "Patient: 690\n",
      "Patient: 690\n",
      "Patient: 690\n",
      "Patient: 690\n",
      "Patient: 690\n",
      "Patient: 690\n",
      "Patient: 695\n",
      "Patient: 695\n",
      "Patient: 698\n",
      "Patient: 698\n",
      "Patient: 700\n",
      "Patient: 703\n",
      "Patient: 703\n",
      "Patient: 704\n",
      "Patient: 705\n",
      "Patient: 707\n",
      "Patient: 708\n",
      "Patient: 709\n",
      "Patient: 710\n",
      "Patient: 711\n",
      "Patient: 711\n",
      "Patient: 711\n",
      "Patient: 711\n",
      "Patient: 711\n",
      "Patient: 712\n",
      "Patient: 716\n",
      "Patient: 717\n",
      "Patient: 718\n",
      "Patient: 719\n",
      "Patient: 723\n",
      "Patient: 726\n",
      "Patient: 727\n",
      "Patient: 728\n",
      "Patient: 728\n",
      "Patient: 731\n",
      "Patient: 731\n",
      "Patient: 732\n",
      "Patient: 733\n",
      "Patient: 740\n",
      "Patient: 743\n",
      "Patient: 744\n",
      "Patient: 746\n",
      "Patient: 747\n",
      "Patient: 747\n",
      "Patient: 749\n",
      "Patient: 752\n",
      "Patient: 754\n",
      "Patient: 755\n",
      "Patient: 755\n",
      "Patient: 756\n",
      "Patient: 765\n",
      "Patient: 766\n",
      "Patient: 767\n",
      "Patient: 768\n",
      "Patient: 770\n",
      "Patient: 771\n",
      "Patient: 771\n",
      "Patient: 772\n",
      "Patient: 774\n",
      "Patient: 779\n",
      "Patient: 779\n",
      "Patient: 780\n",
      "Patient: 781\n",
      "Patient: 781\n",
      "Patient: 781\n",
      "Patient: 782\n",
      "Patient: 782\n",
      "Patient: 784\n",
      "Patient: 785\n",
      "Patient: 786\n",
      "Patient: 787\n",
      "Patient: 787\n",
      "Patient: 788\n",
      "concatenating data\n"
     ]
    },
    {
     "name": "stderr",
     "output_type": "stream",
     "text": [
      "C:\\Users\\Merin\\Anaconda3\\lib\\site-packages\\ipykernel_launcher.py:54: FutureWarning: Sorting because non-concatenation axis is not aligned. A future version\n",
      "of pandas will change to not sort by default.\n",
      "\n",
      "To accept the future behavior, pass 'sort=False'.\n",
      "\n",
      "To retain the current behavior and silence the warning, pass 'sort=True'.\n",
      "\n"
     ]
    }
   ],
   "source": [
    "# define loof forward and look backward windows\n",
    "window_back = 24\n",
    "window_forward = 24\n",
    "shift = 1\n",
    "window_size = window_back + window_forward\n",
    "pts = admissions.iloc[:,1].unique()\n",
    "\n",
    "from sklearn.model_selection import train_test_split\n",
    "\n",
    "#split admissions by training and testing \n",
    "trp, tsp = train_test_split(pts, train_size=0.8)\n",
    "tr = admissions[admissions.iloc[:,1].isin(trp)]\n",
    "ts = admissions[admissions.iloc[:,1].isin(tsp)]\n",
    "# select training data with more than minimul window size\n",
    "tr_sel = tr[tr['los_hrs']>=window_size]\n",
    "# look at the first ad mission\n",
    "pt = tr_sel[tr_sel['EXPIRE_FLAG']=='1'].iloc[0,:]\n",
    "\n",
    "dts = []\n",
    "for i in admissions.index[:100]:\n",
    "  pt = admissions.iloc[i]  \n",
    "  print('Patient:', pt.iloc[1])\n",
    "  for t in range(window_back, int(pt['los_hrs']), shift):\n",
    "    #print('Current time: ', t)\n",
    "    labs = pd.read_sql(\"select * from labevents where hadm_id = \\\"\" + pt[2] + \n",
    "                       \"\\\" and (julianday(CHARTTIME) - julianday(\\\"\" + pt[3] +\n",
    "                       \"\\\"))*24.0 >= \" + str( t - window_back) +\n",
    "                       \" and (julianday(CHARTTIME) - julianday(\\\"\" + pt[3] +\n",
    "                       \"\\\"))*24.0 < \" + str( t ), conn)\n",
    "    #print('   found labs: ',len(labs.index))\n",
    "    if len(labs.index) > 0:\n",
    "        # output\n",
    "        flag = 0\n",
    "        if ((pt['HOSPITAL_EXPIRE_FLAG'] == '1') \n",
    "            # check if died on day of discharge\n",
    "            and ((time.strptime(pt['DOD_HOSP'],'%Y-%m-%d %H:%M:%S')).tm_year == (time.strptime(pt['DISCHTIME'],'%Y-%m-%d %H:%M:%S')).tm_year)\n",
    "            and ((time.strptime(pt['DOD_HOSP'],'%Y-%m-%d %H:%M:%S')).tm_mon == (time.strptime(pt['DISCHTIME'],'%Y-%m-%d %H:%M:%S')).tm_mon)\n",
    "            and ((time.strptime(pt['DOD_HOSP'],'%Y-%m-%d %H:%M:%S')).tm_mday == (time.strptime(pt['DISCHTIME'],'%Y-%m-%d %H:%M:%S')).tm_mday)\n",
    "            # check if within the window\n",
    "            and (time.mktime(time.strptime(pt['ADMITTIME'],'%Y-%m-%d %H:%M:%S')) + (t + window_forward) * 3600 >\n",
    "                 time.mktime(time.strptime(pt['DOD_HOSP'],'%Y-%m-%d %H:%M:%S')) )\n",
    "           ):\n",
    "            flag = 1\n",
    "            #print('yes')\n",
    "               \n",
    "        labs=labs.replace(\"\",np.nan)\n",
    "        labs['vn'] = labs.apply(lambda r: float(r['VALUENUM']),axis=1)\n",
    "        gr = labs.groupby('ITEMID')\n",
    "        #print(pd.DataFrame(gr['vn'].mean()).T)\n",
    "        d = pd.DataFrame(gr['vn'].mean()).T\n",
    "        d['class'] = flag\n",
    "        dts.append(d)\n",
    "print('concatenating data')\n",
    "dt = pd.concat(dts, ignore_index=True) \n",
    "del dts"
   ]
  },
  {
   "cell_type": "code",
   "execution_count": 52,
   "metadata": {},
   "outputs": [
    {
     "data": {
      "text/plain": [
       "[<matplotlib.lines.Line2D at 0x1c7b98a92e8>]"
      ]
     },
     "execution_count": 52,
     "metadata": {},
     "output_type": "execute_result"
    },
    {
     "data": {
      "image/png": "[encoded data removed]",
      "text/plain": [
       "<Figure size 432x288 with 1 Axes>"
      ]
     },
     "metadata": {
      "needs_background": "light"
     },
     "output_type": "display_data"
    }
   ],
   "source": [
    "from sklearn.feature_selection import chi2\n",
    "dt2=pd.DataFrame(dt1)\n",
    "\n",
    "cls = list(dt.columns)\n",
    "cls.remove('class')\n",
    "# frop columns with all missing values\n",
    "dt=dt.dropna(axis=1, how='all')\n",
    "\n",
    "from sklearn.preprocessing import Imputer\n",
    "imp = Imputer()\n",
    "imp.fit(dt)\n",
    "dt1=pd.DataFrame(imp.transform(dt),columns=list(dt.columns))\n",
    "\n",
    "cls = list(dt.columns)\n",
    "cls.remove('class')\n",
    "\n",
    "dt2[dt2<0] = 0\n",
    "\n",
    "dt2=dt2.dropna(axis=1, how='all')\n",
    "\n",
    "chi2(dt2[cls],dt2['class'])\n",
    "\n",
    "from sklearn.linear_model import LogisticRegression\n",
    "lr = LogisticRegression()\n",
    "lr.fit(dt1[cls],dt1['class'])\n",
    "\n",
    "probs = lr.predict_proba(dt1[cls])\n",
    "\n",
    "from sklearn.metrics import auc\n",
    "from sklearn.metrics import roc_curve\n",
    "fpr, tpr, thresholds = roc_curve(dt1['class'], probs[:,1])\n",
    "\n",
    "auc(fpr,tpr)\n",
    "\n",
    "from matplotlib import pyplot as plt\n",
    "\n",
    "plt.plot(fpr,tpr)"
   ]
  },
  {
   "cell_type": "code",
   "execution_count": null,
   "metadata": {},
   "outputs": [],
   "source": []
  }
 ],
 "metadata": {
  "kernelspec": {
   "display_name": "Python 3",
   "language": "python",
   "name": "python3"
  },
  "language_info": {
   "codemirror_mode": {
    "name": "ipython",
    "version": 3
   },
   "file_extension": ".py",
   "mimetype": "text/x-python",
   "name": "python",
   "nbconvert_exporter": "python",
   "pygments_lexer": "ipython3",
   "version": "3.7.0"
  }
 },
 "nbformat": 4,
 "nbformat_minor": 2
}
